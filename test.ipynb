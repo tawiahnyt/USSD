{
 "cells": [
  {
   "metadata": {
    "ExecuteTime": {
     "end_time": "2024-08-01T01:43:53.361718Z",
     "start_time": "2024-08-01T01:43:53.355429Z"
    }
   },
   "cell_type": "code",
   "source": [
    "import requests\n",
    "import pandas as pd\n",
    "import json"
   ],
   "id": "2c4b0b30eca55fa1",
   "outputs": [],
   "execution_count": 41
  },
  {
   "metadata": {
    "ExecuteTime": {
     "end_time": "2024-08-01T01:43:53.464298Z",
     "start_time": "2024-08-01T01:43:53.457682Z"
    }
   },
   "cell_type": "code",
   "source": [
    "USSD_URL = 'http://127.0.0.1:5000'\n",
    "USSD_SHORTCODE = '*123*112#'"
   ],
   "id": "80f4c79ababe49a",
   "outputs": [],
   "execution_count": 42
  },
  {
   "metadata": {
    "ExecuteTime": {
     "end_time": "2024-08-01T01:43:53.684916Z",
     "start_time": "2024-08-01T01:43:53.501431Z"
    }
   },
   "cell_type": "code",
   "source": [
    "def get_valid_student_id():\n",
    "    df = pd.read_csv('indexes.csv')\n",
    "    student_list = df['student_id'].tolist()\n",
    "\n",
    "    while True:\n",
    "        try:\n",
    "            student_id = int(input('Student ID: '))\n",
    "            if student_id in student_list:\n",
    "                return student_id\n",
    "            else:\n",
    "                print('Student ID not found. Please try again.')\n",
    "        except ValueError:\n",
    "            print('Invalid input. Please enter a numeric Student ID.')"
   ],
   "id": "2787c50592cd2ec1",
   "outputs": [],
   "execution_count": 43
  },
  {
   "metadata": {
    "ExecuteTime": {
     "end_time": "2024-08-01T01:43:53.756540Z",
     "start_time": "2024-08-01T01:43:53.690971Z"
    }
   },
   "cell_type": "code",
   "source": [
    "def get_valid_password(student_id):\n",
    "    while True:\n",
    "        password = input('Password: ')\n",
    "        data = {'username': student_id, 'password': password}\n",
    "        try:\n",
    "            response = requests.post(f'{USSD_URL}/', json=data)\n",
    "            response.raise_for_status()\n",
    "            return response.json().get('access_token')\n",
    "        except requests.HTTPError:\n",
    "            print('Password is incorrect. Please try again.')"
   ],
   "id": "3a7e47f84f57bc49",
   "outputs": [],
   "execution_count": 44
  },
  {
   "metadata": {
    "ExecuteTime": {
     "end_time": "2024-08-01T01:43:53.775059Z",
     "start_time": "2024-08-01T01:43:53.760038Z"
    }
   },
   "cell_type": "code",
   "source": [
    "def print_account_details(account_details):\n",
    "    name = f\"{account_details.get('first_name', '')} {account_details.get('last_name', '')}\"\n",
    "    if account_details.get('other_names'):\n",
    "        name += f\" {account_details.get('other_names')}\"\n",
    "    print(\n",
    "        f\"Name: {name}\\n\"\n",
    "        f\"Student ID: {account_details.get('student_id')}\\n\"\n",
    "        f\"Programme: {account_details.get('degree_programmes')}\\n\"\n",
    "        f\"Level: {account_details.get('level')}\\n\"\n",
    "        f\"Email: {account_details.get('email')}\\n\"\n",
    "        f\"Phone: {account_details.get('phone')}\\n\"\n",
    "        f\"Student's Email: {account_details.get('student_email')}\\n\"\n",
    "        f\"Date of Birth: {account_details.get('date_of_birth')}\\n\"\n",
    "        f\"Gender: {account_details.get('gender')}\\n\"\n",
    "        f\"Enrollment Date: {account_details.get('enrollment_date')}\\n\"\n",
    "        f\"Graduation Date: {account_details.get('graduation_date')}\\n\"\n",
    "        f\"Student Type: {account_details.get('student_type')}\\n\")\n",
    "    choice = int(input('\\nPress 0 to go to the main menu: '))\n",
    "    if choice == 0:\n",
    "        return home()"
   ],
   "id": "7ed3ca65e4516022",
   "outputs": [],
   "execution_count": 45
  },
  {
   "metadata": {
    "ExecuteTime": {
     "end_time": "2024-08-01T01:43:53.850604Z",
     "start_time": "2024-08-01T01:43:53.780114Z"
    }
   },
   "cell_type": "code",
   "source": [
    "def display_results(result_details):\n",
    "\n",
    "    # Load course data from the JSON file\n",
    "    with open('courses.json') as file:\n",
    "        data = json.load(file)\n",
    "\n",
    "    # Extract course data\n",
    "    l100_first_semester = data['BSc. Information Technology']['100']['first_semester']\n",
    "    l100_second_semester = data['BSc. Information Technology']['100']['second_semester']\n",
    "    l200_first_semester = data['BSc. Information Technology']['200']['first_semester']\n",
    "    l200_second_semester = data['BSc. Information Technology']['200']['second_semester']\n",
    "    l300_first_semester = data['BSc. Information Technology']['300']['first_semester']\n",
    "    l300_second_semester = data['BSc. Information Technology']['300']['second_semester']\n",
    "\n",
    "    level = result_details.get('level')\n",
    "    \n",
    "    if level == 100:\n",
    "        print('No results to show')\n",
    "    elif level == 200:\n",
    "        choice = int(input('Select a result to view\\n1. Level 100 First Semester\\n2. Level 100 Second Semester\\n'))\n",
    "        if choice == 1:\n",
    "            print('Level 100 First Semester Results\\n')\n",
    "            for course in l100_first_semester:\n",
    "                course_code = course['course_code']\n",
    "                print(f\"{course_code} - {course['course_title']} - {result_details.get(course_code.replace('-', '_'))}\")\n",
    "        elif choice == 2:\n",
    "            print('Level 100 Second Semester Results\\n')\n",
    "            for course in l100_second_semester:\n",
    "                course_code = course['course_code']\n",
    "                print(f\"{course_code} - {course['course_title']} - {result_details.get(course_code.replace('-', '_'))}\")\n",
    "    elif level == 300:\n",
    "        choice = int(input('Select a result to view\\n1. Level 100 First Semester\\n2. Level 100 Second Semester\\n'\n",
    "                           '3. Level 200 First Semester\\n4. Level 200 Second Semester\\n'))\n",
    "        if choice == 1:\n",
    "            print('Level 100 First Semester Results\\n')\n",
    "            for course in l100_first_semester:\n",
    "                course_code = course['course_code']\n",
    "                print(f\"{course_code} - {course['course_title']} - {result_details.get(course_code.replace('-', '_'))}\")\n",
    "        elif choice == 2:\n",
    "            print('Level 100 Second Semester Results\\n')\n",
    "            for course in l100_second_semester:\n",
    "                course_code = course['course_code']\n",
    "                print(f\"{course_code} - {course['course_title']} - {result_details.get(course_code.replace('-', '_'))}\")\n",
    "        elif choice == 3:\n",
    "            print('Level 200 First Semester Results\\n')\n",
    "            for course in l200_first_semester:\n",
    "                course_code = course['course_code']\n",
    "                print(f\"{course_code} - {course['course_title']} - {result_details.get(course_code.replace('-', '_'))}\")\n",
    "        elif choice == 4:\n",
    "            print('Level 200 Second Semester Results\\n')\n",
    "            for course in l200_second_semester:\n",
    "                course_code = course['course_code']\n",
    "                print(f\"{course_code} - {course['course_title']} - {result_details.get(course_code.replace('-', '_'))}\")\n",
    "    elif level == 400:\n",
    "        choice = int(input('Select a result to view\\n1. Level 100 First Semester\\n2. Level 100 Second Semester\\n'\n",
    "                           '3. Level 200 First Semester\\n4. Level 200 Second Semester\\n5. Level 300 First Semester\\n'\n",
    "                           '6. Level 300 Second Semester\\n'))\n",
    "        if choice == 1:\n",
    "            print('Level 100 First Semester Results\\n')\n",
    "            for course in l100_first_semester:\n",
    "                course_code = course['course_code']\n",
    "                print(f\"{course_code} - {course['course_title']} - {result_details.get(course_code.replace('-', '_'))}\")\n",
    "        elif choice == 2:\n",
    "            print('Level 100 Second Semester Results\\n')\n",
    "            for course in l100_second_semester:\n",
    "                course_code = course['course_code']\n",
    "                print(f\"{course_code} - {course['course_title']} - {result_details.get(course_code.replace('-', '_'))}\")\n",
    "        elif choice == 3:\n",
    "            print('Level 200 First Semester Results\\n')\n",
    "            for course in l200_first_semester:\n",
    "                course_code = course['course_code']\n",
    "                print(f\"{course_code} - {course['course_title']} - {result_details.get(course_code.replace('-', '_'))}\")\n",
    "        elif choice == 4:\n",
    "            print('Level 200 Second Semester Results\\n')\n",
    "            for course in l200_second_semester:\n",
    "                course_code = course['course_code']\n",
    "                print(f\"{course_code} - {course['course_title']} - {result_details.get(course_code.replace('-', '_'))}\")\n",
    "        elif choice == 5:\n",
    "            print('Level 300 First Semester Results\\n')\n",
    "            for course in l300_first_semester:\n",
    "                course_code = course['course_code']\n",
    "                print(f\"{course_code} - {course['course_title']} - {result_details.get(course_code.replace('-', '_'))}\")\n",
    "        elif choice == 6:\n",
    "            print('Level 300 Second Semester Results\\n')\n",
    "            for course in l300_second_semester:\n",
    "                course_code = course['course_code']\n",
    "                print(f\"{course_code} - {course['course_title']} - {result_details.get(course_code.replace('-', '_'))}\")\n",
    "\n"
   ],
   "id": "802ff70981f7348d",
   "outputs": [],
   "execution_count": 46
  },
  {
   "metadata": {
    "ExecuteTime": {
     "end_time": "2024-08-01T01:43:53.864959Z",
     "start_time": "2024-08-01T01:43:53.854617Z"
    }
   },
   "cell_type": "code",
   "source": [
    "def home():\n",
    "    global api_token\n",
    "    home_response = requests.get(f'{USSD_URL}/home', headers={'Authorization': f'Bearer {api_token}'})\n",
    "    home_response.raise_for_status()\n",
    "    user_name = home_response.json().get('first_name')\n",
    "    print(f\"Welcome {user_name}! What would you like to do today?\")\n",
    "\n",
    "    user_response = int(input('1. My Account\\n2. Check Results\\n3. Register Courses\\n4. Time Table\\n'\n",
    "                              '5. School Calendar\\n6. Log Out\\nEnter an option to proceed: '))\n",
    "\n",
    "    if user_response == 1:\n",
    "        account_response = requests.get(f'{USSD_URL}/account', headers={'Authorization': f'Bearer {api_token}'})\n",
    "        account_response.raise_for_status()\n",
    "        account_details = account_response.json()\n",
    "        print_account_details(account_details)\n",
    "\n",
    "    elif user_response == 2:\n",
    "        result_response = requests.get(f'{USSD_URL}/results', headers={'Authorization': f'Bearer {api_token}'})\n",
    "        result_response.raise_for_status()\n",
    "        result_details = result_response.json()\n",
    "        display_results(result_details)"
   ],
   "id": "55c763ecb6cd2836",
   "outputs": [],
   "execution_count": 47
  },
  {
   "metadata": {
    "ExecuteTime": {
     "end_time": "2024-08-01T01:43:53.912342Z",
     "start_time": "2024-08-01T01:43:53.873019Z"
    }
   },
   "cell_type": "code",
   "source": [
    "def main():\n",
    "    short_code = '*123*112#'\n",
    "    if short_code == USSD_SHORTCODE:\n",
    "        print(\"Welcome to GCTU SIP USSD.\\nLogin with your credentials to proceed\")\n",
    "        student_id = get_valid_student_id()\n",
    "        global api_token\n",
    "        api_token= get_valid_password(student_id)\n",
    "        \n",
    "        home()\n",
    "\n",
    "        "
   ],
   "id": "139c99b36b9bcd82",
   "outputs": [],
   "execution_count": 48
  },
  {
   "metadata": {
    "ExecuteTime": {
     "end_time": "2024-08-01T01:43:53.919204Z",
     "start_time": "2024-08-01T01:43:53.914353Z"
    }
   },
   "cell_type": "code",
   "source": "",
   "id": "5470311d1281bdc1",
   "outputs": [],
   "execution_count": 48
  },
  {
   "metadata": {
    "ExecuteTime": {
     "end_time": "2024-08-01T01:45:35.960140Z",
     "start_time": "2024-08-01T01:43:53.923213Z"
    }
   },
   "cell_type": "code",
   "source": [
    "if __name__ == \"__main__\":\n",
    "    main()\n"
   ],
   "id": "2f8a7013794eaeeb",
   "outputs": [
    {
     "name": "stdout",
     "output_type": "stream",
     "text": [
      "Welcome to GCTU SIP USSD.\n",
      "Login with your credentials to proceed\n",
      "Welcome Princess! What would you like to do today?\n",
      "Name: Princess Baidoo\n",
      "Student ID: 2124080459\n",
      "Programme: BSc. Information Technology\n",
      "Level: 400\n",
      "Email: pbaidoo@yahoo.com\n",
      "Phone: 562-133-3022\n",
      "Student's Email: 2124080459@live.gctu.edu.gh\n",
      "Date of Birth: 14/03/2003\n",
      "Gender: Female\n",
      "Enrollment Date: 2021-01\n",
      "Graduation Date: 2024-08\n",
      "Student Type: Weekend\n",
      "\n",
      "Welcome Princess! What would you like to do today?\n"
     ]
    },
    {
     "ename": "ValueError",
     "evalue": "invalid literal for int() with base 10: ''",
     "output_type": "error",
     "traceback": [
      "\u001B[1;31m---------------------------------------------------------------------------\u001B[0m",
      "\u001B[1;31mValueError\u001B[0m                                Traceback (most recent call last)",
      "Cell \u001B[1;32mIn[49], line 2\u001B[0m\n\u001B[0;32m      1\u001B[0m \u001B[38;5;28;01mif\u001B[39;00m \u001B[38;5;18m__name__\u001B[39m \u001B[38;5;241m==\u001B[39m \u001B[38;5;124m\"\u001B[39m\u001B[38;5;124m__main__\u001B[39m\u001B[38;5;124m\"\u001B[39m:\n\u001B[1;32m----> 2\u001B[0m     \u001B[43mmain\u001B[49m\u001B[43m(\u001B[49m\u001B[43m)\u001B[49m\n",
      "Cell \u001B[1;32mIn[48], line 9\u001B[0m, in \u001B[0;36mmain\u001B[1;34m()\u001B[0m\n\u001B[0;32m      6\u001B[0m \u001B[38;5;28;01mglobal\u001B[39;00m api_token\n\u001B[0;32m      7\u001B[0m api_token\u001B[38;5;241m=\u001B[39m get_valid_password(student_id)\n\u001B[1;32m----> 9\u001B[0m \u001B[43mhome\u001B[49m\u001B[43m(\u001B[49m\u001B[43m)\u001B[49m\n",
      "Cell \u001B[1;32mIn[47], line 15\u001B[0m, in \u001B[0;36mhome\u001B[1;34m()\u001B[0m\n\u001B[0;32m     13\u001B[0m     account_response\u001B[38;5;241m.\u001B[39mraise_for_status()\n\u001B[0;32m     14\u001B[0m     account_details \u001B[38;5;241m=\u001B[39m account_response\u001B[38;5;241m.\u001B[39mjson()\n\u001B[1;32m---> 15\u001B[0m     \u001B[43mprint_account_details\u001B[49m\u001B[43m(\u001B[49m\u001B[43maccount_details\u001B[49m\u001B[43m)\u001B[49m\n\u001B[0;32m     17\u001B[0m \u001B[38;5;28;01melif\u001B[39;00m user_response \u001B[38;5;241m==\u001B[39m \u001B[38;5;241m2\u001B[39m:\n\u001B[0;32m     18\u001B[0m     result_response \u001B[38;5;241m=\u001B[39m requests\u001B[38;5;241m.\u001B[39mget(\u001B[38;5;124mf\u001B[39m\u001B[38;5;124m'\u001B[39m\u001B[38;5;132;01m{\u001B[39;00mUSSD_URL\u001B[38;5;132;01m}\u001B[39;00m\u001B[38;5;124m/results\u001B[39m\u001B[38;5;124m'\u001B[39m, headers\u001B[38;5;241m=\u001B[39m{\u001B[38;5;124m'\u001B[39m\u001B[38;5;124mAuthorization\u001B[39m\u001B[38;5;124m'\u001B[39m: \u001B[38;5;124mf\u001B[39m\u001B[38;5;124m'\u001B[39m\u001B[38;5;124mBearer \u001B[39m\u001B[38;5;132;01m{\u001B[39;00mapi_token\u001B[38;5;132;01m}\u001B[39;00m\u001B[38;5;124m'\u001B[39m})\n",
      "Cell \u001B[1;32mIn[45], line 20\u001B[0m, in \u001B[0;36mprint_account_details\u001B[1;34m(account_details)\u001B[0m\n\u001B[0;32m     18\u001B[0m choice \u001B[38;5;241m=\u001B[39m \u001B[38;5;28mint\u001B[39m(\u001B[38;5;28minput\u001B[39m(\u001B[38;5;124m'\u001B[39m\u001B[38;5;130;01m\\n\u001B[39;00m\u001B[38;5;124mPress 0 to go to the main menu\u001B[39m\u001B[38;5;124m'\u001B[39m))\n\u001B[0;32m     19\u001B[0m \u001B[38;5;28;01mif\u001B[39;00m choice \u001B[38;5;241m==\u001B[39m \u001B[38;5;241m0\u001B[39m:\n\u001B[1;32m---> 20\u001B[0m     \u001B[38;5;28;01mreturn\u001B[39;00m \u001B[43mhome\u001B[49m\u001B[43m(\u001B[49m\u001B[43m)\u001B[49m\n",
      "Cell \u001B[1;32mIn[47], line 8\u001B[0m, in \u001B[0;36mhome\u001B[1;34m()\u001B[0m\n\u001B[0;32m      5\u001B[0m user_name \u001B[38;5;241m=\u001B[39m home_response\u001B[38;5;241m.\u001B[39mjson()\u001B[38;5;241m.\u001B[39mget(\u001B[38;5;124m'\u001B[39m\u001B[38;5;124mfirst_name\u001B[39m\u001B[38;5;124m'\u001B[39m)\n\u001B[0;32m      6\u001B[0m \u001B[38;5;28mprint\u001B[39m(\u001B[38;5;124mf\u001B[39m\u001B[38;5;124m\"\u001B[39m\u001B[38;5;124mWelcome \u001B[39m\u001B[38;5;132;01m{\u001B[39;00muser_name\u001B[38;5;132;01m}\u001B[39;00m\u001B[38;5;124m! What would you like to do today?\u001B[39m\u001B[38;5;124m\"\u001B[39m)\n\u001B[1;32m----> 8\u001B[0m user_response \u001B[38;5;241m=\u001B[39m \u001B[38;5;28;43mint\u001B[39;49m\u001B[43m(\u001B[49m\u001B[38;5;28;43minput\u001B[39;49m\u001B[43m(\u001B[49m\u001B[38;5;124;43m'\u001B[39;49m\u001B[38;5;124;43m1. My Account\u001B[39;49m\u001B[38;5;130;43;01m\\n\u001B[39;49;00m\u001B[38;5;124;43m2. Check Results\u001B[39;49m\u001B[38;5;130;43;01m\\n\u001B[39;49;00m\u001B[38;5;124;43m3. Register Courses\u001B[39;49m\u001B[38;5;130;43;01m\\n\u001B[39;49;00m\u001B[38;5;124;43m4. Time Table\u001B[39;49m\u001B[38;5;130;43;01m\\n\u001B[39;49;00m\u001B[38;5;124;43m'\u001B[39;49m\n\u001B[0;32m      9\u001B[0m \u001B[43m                          \u001B[49m\u001B[38;5;124;43m'\u001B[39;49m\u001B[38;5;124;43m5. School Calendar\u001B[39;49m\u001B[38;5;130;43;01m\\n\u001B[39;49;00m\u001B[38;5;124;43m6. Log Out\u001B[39;49m\u001B[38;5;130;43;01m\\n\u001B[39;49;00m\u001B[38;5;124;43mEnter an option to proceed: \u001B[39;49m\u001B[38;5;124;43m'\u001B[39;49m\u001B[43m)\u001B[49m\u001B[43m)\u001B[49m\n\u001B[0;32m     11\u001B[0m \u001B[38;5;28;01mif\u001B[39;00m user_response \u001B[38;5;241m==\u001B[39m \u001B[38;5;241m1\u001B[39m:\n\u001B[0;32m     12\u001B[0m     account_response \u001B[38;5;241m=\u001B[39m requests\u001B[38;5;241m.\u001B[39mget(\u001B[38;5;124mf\u001B[39m\u001B[38;5;124m'\u001B[39m\u001B[38;5;132;01m{\u001B[39;00mUSSD_URL\u001B[38;5;132;01m}\u001B[39;00m\u001B[38;5;124m/account\u001B[39m\u001B[38;5;124m'\u001B[39m, headers\u001B[38;5;241m=\u001B[39m{\u001B[38;5;124m'\u001B[39m\u001B[38;5;124mAuthorization\u001B[39m\u001B[38;5;124m'\u001B[39m: \u001B[38;5;124mf\u001B[39m\u001B[38;5;124m'\u001B[39m\u001B[38;5;124mBearer \u001B[39m\u001B[38;5;132;01m{\u001B[39;00mapi_token\u001B[38;5;132;01m}\u001B[39;00m\u001B[38;5;124m'\u001B[39m})\n",
      "\u001B[1;31mValueError\u001B[0m: invalid literal for int() with base 10: ''"
     ]
    }
   ],
   "execution_count": 49
  },
  {
   "metadata": {
    "ExecuteTime": {
     "end_time": "2024-08-01T01:45:35.966153Z",
     "start_time": "2024-08-01T01:45:35.964152Z"
    }
   },
   "cell_type": "code",
   "source": "",
   "id": "c7ce8aa6af2f08de",
   "outputs": [],
   "execution_count": null
  }
 ],
 "metadata": {
  "kernelspec": {
   "display_name": "Python 3",
   "language": "python",
   "name": "python3"
  },
  "language_info": {
   "codemirror_mode": {
    "name": "ipython",
    "version": 2
   },
   "file_extension": ".py",
   "mimetype": "text/x-python",
   "name": "python",
   "nbconvert_exporter": "python",
   "pygments_lexer": "ipython2",
   "version": "2.7.6"
  }
 },
 "nbformat": 4,
 "nbformat_minor": 5
}
