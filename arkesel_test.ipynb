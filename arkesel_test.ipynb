{
 "cells": [
  {
   "cell_type": "code",
   "id": "initial_id",
   "metadata": {
    "collapsed": true,
    "ExecuteTime": {
     "end_time": "2024-08-21T13:21:48.432480Z",
     "start_time": "2024-08-21T13:21:47.470039Z"
    }
   },
   "source": [
    "from flask import Flask, request, jsonify\n",
    "import requests\n",
    "import pandas as pd\n",
    "import json\n",
    "\n",
    "USSD_URL = 'https://ussdapi-vv2j.onrender.com'\n",
    "app = Flask(__name__)\n",
    "\n",
    "class USSDResponse:\n",
    "    def __init__(self, session_id=None, user_id=None, msisdn=None, message=None, continue_session=False):\n",
    "        self.sessionID = session_id\n",
    "        self.userID = user_id\n",
    "        self.msisdn = msisdn\n",
    "        self.message = message\n",
    "        self.continueSession = continue_session"
   ],
   "outputs": [],
   "execution_count": 2
  },
  {
   "metadata": {
    "ExecuteTime": {
     "end_time": "2024-08-21T13:22:31.953946Z",
     "start_time": "2024-08-21T13:22:31.944178Z"
    }
   },
   "cell_type": "code",
   "source": [
    "def get_valid_student_id():\n",
    "    df = pd.read_csv('indexes.csv')\n",
    "    student_list = df['student_id'].tolist()\n",
    "\n",
    "    while True:\n",
    "        try:\n",
    "            student_id = int(input('Student ID: '))\n",
    "            if student_id in student_list:\n",
    "                return student_id\n",
    "            else:\n",
    "                print('Student ID not found. Please try again.')\n",
    "        except ValueError:\n",
    "            print('Invalid input. Please enter a numeric Student ID.')"
   ],
   "id": "bbdf61be44d7efff",
   "outputs": [],
   "execution_count": 4
  },
  {
   "metadata": {
    "ExecuteTime": {
     "end_time": "2024-08-21T13:23:20.312196Z",
     "start_time": "2024-08-21T13:23:20.300541Z"
    }
   },
   "cell_type": "code",
   "source": [
    "def get_valid_password(student_id):\n",
    "    while True:\n",
    "        password = input('Password: ')\n",
    "        data = {'username': student_id, 'password': password}\n",
    "        try:\n",
    "            response = requests.post(f'{USSD_URL}/', json=data)\n",
    "            response.raise_for_status()\n",
    "            return response.json().get('access_token')\n",
    "        except requests.HTTPError:\n",
    "            print('Password is incorrect. Please try again.')"
   ],
   "id": "95f79429c0224f3",
   "outputs": [],
   "execution_count": 5
  },
  {
   "metadata": {},
   "cell_type": "code",
   "outputs": [],
   "execution_count": null,
   "source": [
    "def home():\n",
    "    global api_token\n",
    "    home_response = requests.get(f'{USSD_URL}/home', headers={'Authorization': f'Bearer {api_token}'})\n",
    "    home_response.raise_for_status()\n",
    "    user_name = home_response.json().get('first_name')\n",
    "    print(f\"Welcome {user_name}! What would you like to do today?\")\n",
    "\n",
    "    user_response = int(input('1. My Account\\n2. Check Results\\n3. Register Courses\\n4. Time Table\\n'\n",
    "                              '5. School Calendar\\n6. Log Out\\nEnter an option to proceed: '))\n",
    "\n",
    "    if user_response == 1:\n",
    "        account_response = requests.get(f'{USSD_URL}/account', headers={'Authorization': f'Bearer {api_token}'})\n",
    "        account_response.raise_for_status()\n",
    "        account_details = account_response.json()\n",
    "        account(account_details)\n",
    "\n",
    "    elif user_response == 2:\n",
    "        result_response = requests.get(f'{USSD_URL}/results', headers={'Authorization': f'Bearer {api_token}'})\n",
    "        result_response.raise_for_status()\n",
    "        result_details = result_response.json()\n",
    "        display_results(result_details)\n",
    "\n",
    "    elif user_response == 3:\n",
    "        courses_response = requests.get(f'{USSD_URL}/courses', headers={'Authorization': f'Bearer {api_token}'})\n",
    "        courses_response.raise_for_status()\n",
    "        courses_details = courses_response.json()\n",
    "        register_courses(courses_details, api_token)\n",
    "\n",
    "    else:\n",
    "        exit()"
   ],
   "id": "d998bac3e8a7ceea"
  }
 ],
 "metadata": {
  "kernelspec": {
   "display_name": "Python 3",
   "language": "python",
   "name": "python3"
  },
  "language_info": {
   "codemirror_mode": {
    "name": "ipython",
    "version": 2
   },
   "file_extension": ".py",
   "mimetype": "text/x-python",
   "name": "python",
   "nbconvert_exporter": "python",
   "pygments_lexer": "ipython2",
   "version": "2.7.6"
  }
 },
 "nbformat": 4,
 "nbformat_minor": 5
}
